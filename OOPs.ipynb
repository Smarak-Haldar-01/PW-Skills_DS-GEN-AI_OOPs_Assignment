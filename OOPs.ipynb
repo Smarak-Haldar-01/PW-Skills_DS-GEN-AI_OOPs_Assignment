{
 "cells": [
  {
   "cell_type": "markdown",
   "id": "1b7ef9ae",
   "metadata": {},
   "source": [
    "# Object Oriented Programming Systems/Structures in Python3"
   ]
  },
  {
   "cell_type": "markdown",
   "id": "02b6442f",
   "metadata": {},
   "source": [
    "# Python OOPs Questions"
   ]
  },
  {
   "cell_type": "markdown",
   "id": "81981cdc",
   "metadata": {},
   "source": [
    "1.  What is Object-Oriented Programming (OOP)?\n",
    "\n",
    "A:  Object Oriented Programming is a general purpose programming paradigm which is based on real life class-object relations, where classes are \n",
    "    the base and objects are the instances of the base or class.\n",
    "\n",
    "    For example :\n",
    "\n",
    "    class - Animal has many objects Dogs, Cats, Snakes, Birds etc.\n",
    "__________________________________________________________________________________________________________________________________________________\n",
    "\n",
    "2.  What is a class in OOP?\n",
    "\n",
    "A:  Classes in OOP(s) are the base structure or more or blueprent of an object.\n",
    "__________________________________________________________________________________________________________________________________________________\n",
    "\n",
    "3.  What is an object in OOP?\n",
    "\n",
    "A:  An object is a real world (class) instance which holds or occupies space.\n",
    "__________________________________________________________________________________________________________________________________________________\n",
    "\n",
    "4.  What is the difference between abstraction and encapsulation?\n",
    "\n",
    "A:  Astraction is the process of hiding the data manipulation / business logics while executng a process whereas encapsulation is the process \n",
    "    of binding data and code togather.\n",
    "__________________________________________________________________________________________________________________________________________________\n",
    "\n",
    "5.  What are dunder methods in Python?\n",
    "\n",
    "A:  Dunder methods are special methods which are used to design own logics for inbuilt functions/keywords or operators.\n",
    "__________________________________________________________________________________________________________________________________________________\n",
    "\n",
    "6.  Explain the concept of inheritance in OOP.\n",
    "\n",
    "A:  Inheritance is the process of inheriting a class's properties/atributes or state by another class. \n",
    "\n",
    "    class A:\n",
    "      a = 'Hello! I am \\'a\\'!'\n",
    "      def __init__(self):\n",
    "        print(\"I am A!\")  \n",
    "    \n",
    "    class B(A):\n",
    "      pass\n",
    "    \n",
    "    print(B()) # will give the output as : \"I am A!\" which is inheriting the parent class 'A' constractor or __init__ method as child class 'B' itself has no personal __init__ declared and described.\n",
    "\n",
    "    print(B.a) # will give output as : \"Hello! I am 'a'!\" As child class B has inherited parent class 'A' hence child class 'B' hass access to all the states or properties/attributes of the parent class 'A'.\n",
    "__________________________________________________________________________________________________________________________________________________\n",
    "\n",
    "7.  What is polymorphism in OOP?\n",
    "\n",
    "A:  Polymorphism in python is a technique of having multiple forms of a single function.\n",
    "\n",
    "    There are two types of polymorphism in python : 1. Overloading or Compile time polymorphism 2. Overriding or Runtime Polymorphism\n",
    "\n",
    "    1. Overloading or Compile time polymorphism : This type of polymorphism is not truly supported in python as python variables have no bounds of their data type as well as the parameters of the function can have default values which sometimes make the parameters optional.\n",
    "\n",
    "    2. Overriding or Runtime Polymorphism : This type of polymorphism takes place in the case of inheritance when there are two same named methods in the child and parent classes and when the user tries to call the methods with the child class object then the child class method overrides the parent class method and performs its own tasks.\n",
    "__________________________________________________________________________________________________________________________________________________\n",
    "\n",
    "8.  How is encapsulation achieved in Python?\n",
    "\n",
    "A:  Encapsulation in python is achieved in python using the different access modifier techniques. \n",
    "\n",
    "    There are three types of access modifiers to have differnt type of binding in encapsulation, they are : 1. public 2. private 3. protected\n",
    "\n",
    "    1. public - this is the default access modifier for any kind of variable / method  inside a class. This allows free access and modifications of this properties of the class from anywhere outside or inside the class just by using an object or cls or self parameter.\n",
    "\n",
    "    2. private - this is the most secured access modifier in python which allows only the class members or methods to access or modify the property.\n",
    "\n",
    "    3. protected - this is a bit secure access modifier which is used to allow access of a class property to the class itself and to its sub-classes or instances boundaries.\n",
    "__________________________________________________________________________________________________________________________________________________\n",
    "\n",
    "9.  What is a constructor in Python?\n",
    "\n",
    "A:  A constructor in python is a special type of method which is used to initiate an instance of class and also which is the auto-called method\n",
    "    of a class.\n",
    "__________________________________________________________________________________________________________________________________________________\n",
    "\n",
    "10. What are class and static methods in Python?\n",
    "\n",
    "A:  Class Methods are special kind of methods which are used to access or modify class level variable/nethods. They are created with the decorator\n",
    "    @classmethod.\n",
    "\n",
    "    Static methods are also a special kind of method which has no class or instance boundaries and can be called by a class name directly.\n",
    "__________________________________________________________________________________________________________________________________________________\n",
    "\n",
    "\n",
    "11. What is method overloading in Python?\n",
    "\n",
    "A:  Method overloading in python is a technique to have multiple forms of a single function just by changing the number(s) of parameters of the\n",
    "    function. Note in python ovloading is not truely in nature.\n",
    "__________________________________________________________________________________________________________________________________________________\n",
    "\n",
    "12. What is method overriding in OOP?\n",
    "\n",
    "A:  Method Overring in OOPs is a technique of achiving runtime polymorphism while inheriting a class by another class(s). This takes place when \n",
    "    a parent class and child class has a same named method and when the user tries to access the method by the child class object then the child class's method overtakes or overrides the parent class's method.\n",
    "__________________________________________________________________________________________________________________________________________________\n",
    "\n",
    "13. What is a property decorator in Python?\n",
    "\n",
    "A:  A property decorator in python is an unique decorator which changes a method of a class to a parameter or property or attribute of the class.\n",
    "__________________________________________________________________________________________________________________________________________________\n",
    "\n",
    "14. Why is polymorphism important in OOP?\n",
    "A:  Polymorphism is important in OOPs to reduce code and maintain code reusibility and also to allow independency to the child class methods    \n",
    "    which have the same name as that of the parent class method, that is to remove the conflict between child class methods and parent class methods.\n",
    "__________________________________________________________________________________________________________________________________________________\n",
    "\n",
    "15.  What is an abstract class in Python?\n",
    "\n",
    "A:  Abstract class in python is a special type of class which has only the declareations but no descriptions, this type of class cannot be \n",
    "    instanciated.\n",
    "__________________________________________________________________________________________________________________________________________________\n",
    "\n",
    "16. What are the advantages of OOP?\n",
    "\n",
    "A:  The advantages of OOPs are :\n",
    "    1. Inheritance and Polymorphism - Code Reusibility\n",
    "    2. Abstraction - hiding business logics and viewing the program's output only.\n",
    "    3. Encapsulation - restricting users access and maintaining integrity and security\n",
    "    4. Strutured code base\n",
    "__________________________________________________________________________________________________________________________________________________\n",
    "\n",
    "17. What is the difference between a class variable and an instance variable?\n",
    "\n",
    "A:  Class variables belongs to the class level where as instance variable belongs to the instance level. Class variables can be directly accessed \n",
    "    by the class name where as to access an instance variable we first need to instanciate the class to an object. Lastly Class level variables are setted with class methods where as instance variables are setted with __init__ method or the constructor of the class.\n",
    "__________________________________________________________________________________________________________________________________________________\n",
    "\n",
    "18. What is multiple inheritance in Python?\n",
    "\n",
    "A:  Multiple Inheritance in python is a type of inheritance where the subclass or the child class has two parent class.\n",
    "    \n",
    "    For example :\n",
    "\n",
    "      class A: # Parent 1\n",
    "        pass\n",
    "      \n",
    "      class B: # Parent 2\n",
    "        pass\n",
    "\n",
    "      class C(A, B): # Child\n",
    "        pass\n",
    "__________________________________________________________________________________________________________________________________________________\n",
    "\n",
    "19. Explain the purpose of ‘__str__’ and ‘__repr__’ methods in Python.\n",
    "\n",
    "A:  '__str__' dunder method is used to customize the output pattern for an object when printed in print function.\n",
    "\n",
    "    '__repr__' dunder method is used to customize the output of an object when called with repr function.\n",
    "__________________________________________________________________________________________________________________________________________________\n",
    "\n",
    "20. What is the significance of the ‘super()’ function in Python?\n",
    "\n",
    "A:  super() function is used to access parent class attributes/properties from child class. The super function is also used to solve the dimond \n",
    "    problem for multiple inheritance, when a child class has two parrent class and arises a confusion of calling a same named method inside the parent classes.\n",
    "__________________________________________________________________________________________________________________________________________________\n",
    "\n",
    "21. What is the significance of the __del__ method in Python?\n",
    "\n",
    "A:  __del__ is a magic method which is autometically called by the garbage collector in python which deletes the an object and frees the memory.\n",
    "__________________________________________________________________________________________________________________________________________________\n",
    "\n",
    "22.  What is the difference between @staticmethod and @classmethod in Python?\n",
    "\n",
    "A:  @staticmethod in python is a method inside a class which takes no class or ofject reference as params and thus has no limitations of class   \n",
    "    or object bounds and can be called directly by the class name, whereas, @classmethod in python is a class level method which takes the class as a refernce in the parameter to relate it further with clss level attributes.\n",
    "__________________________________________________________________________________________________________________________________________________\n",
    "\n",
    "23. How does polymorphism work in Python with inheritance?\n",
    "\n",
    "A:  The polymorphism that works with inheritance is also known as method overriding or runtime polymorphism where a child class and a parent \n",
    "    class bears a method of same name and when we try to access the method by the child class object then the chid class method overrides the parent class method.\n",
    "__________________________________________________________________________________________________________________________________________________\n",
    "\n",
    "24. What is method chaining in Python OOP?\n",
    "\n",
    "A:  Method chanining is a process of calling methods of a class sequentialy by writing a single syntax of code which reducess code complexity   \n",
    "    and increases code readability.\n",
    "__________________________________________________________________________________________________________________________________________________\n",
    "\n",
    "25. What is the purpose of the __call__ method in Python?\n",
    "\n",
    "A:  The __call__ method or dunder function is used to call objects and use class as a function.\n",
    "__________________________________________________________________________________________________________________________________________________"
   ]
  },
  {
   "cell_type": "markdown",
   "id": "7346fd3f",
   "metadata": {},
   "source": [
    "# Practical Questions"
   ]
  },
  {
   "cell_type": "code",
   "execution_count": null,
   "id": "de0be898",
   "metadata": {},
   "outputs": [
    {
     "name": "stdout",
     "output_type": "stream",
     "text": [
      "Bark!\n"
     ]
    }
   ],
   "source": [
    "# 1. Create a parent class Animal with a method speak() that prints a generic message. Create a child class Dog\n",
    "# that overrides the speak() method to print \"Bark!\".\n",
    "\n",
    "class Animal:\n",
    "\n",
    "  def speak(self):\n",
    "    print(\"Hey! I am an animal and I can speak.\")\n",
    "\n",
    "class Dog(Animal):\n",
    "\n",
    "  def speak(self):\n",
    "    print(\"Bark!\")\n",
    "\n",
    "tommy = Dog()\n",
    "\n",
    "tommy.speak()"
   ]
  },
  {
   "cell_type": "code",
   "execution_count": 5,
   "id": "decfa2d3",
   "metadata": {},
   "outputs": [
    {
     "name": "stdout",
     "output_type": "stream",
     "text": [
      "30\n",
      "50.26548245743669\n"
     ]
    }
   ],
   "source": [
    "# 2. Write a program to create an abstract class Shape with a method area(). Derive classes Circle and Rectangle\n",
    "# from it and implement the area() method in both\n",
    "\n",
    "import abc\n",
    "import math\n",
    "\n",
    "class Shape(abc.ABC):\n",
    "\n",
    "  @abc.abstractmethod\n",
    "  def area(self):\n",
    "    pass\n",
    "\n",
    "class Circle(Shape):\n",
    "\n",
    "  def __init__(self, radius):\n",
    "    self.radius = radius\n",
    "\n",
    "  def area(self):\n",
    "    print(math.pi * (self.radius ** 2))\n",
    "  \n",
    "class Rectangle(Shape):\n",
    "\n",
    "  def __init__(self, length, breadth):\n",
    "    self.length = length\n",
    "    self.breadth = breadth\n",
    "\n",
    "  def area(self):\n",
    "    print(2 * (self.length + self.breadth))\n",
    "\n",
    "\n",
    "rec = Rectangle(10, 5)\n",
    "\n",
    "rec.area()\n",
    "\n",
    "del rec\n",
    "\n",
    "circle = Circle(4)\n",
    "\n",
    "circle.area()\n",
    "\n",
    "del circle"
   ]
  },
  {
   "cell_type": "code",
   "execution_count": 10,
   "id": "4346e9a4",
   "metadata": {},
   "outputs": [
    {
     "name": "stdout",
     "output_type": "stream",
     "text": [
      "True\n",
      "Car\n"
     ]
    }
   ],
   "source": [
    "# 3. Implement a multi-level inheritance scenario where a class Vehicle has an attribute type. Derive a class Car\n",
    "# and further derive a class ElectricCar that adds a battery attribute.\n",
    "\n",
    "class Vehicle(abc.ABC):\n",
    "  type = ''\n",
    "\n",
    "class Car(Vehicle):\n",
    "  def __init__(self):\n",
    "    self.type = 'Car'\n",
    "\n",
    "class ElectricCar(Car):\n",
    "  battery = True\n",
    "\n",
    "ev = ElectricCar()\n",
    "\n",
    "print(ev.battery)\n",
    "\n",
    "print(ev.type)\n",
    "\n",
    "del ev"
   ]
  },
  {
   "cell_type": "code",
   "execution_count": 11,
   "id": "401eb79c",
   "metadata": {},
   "outputs": [
    {
     "name": "stdout",
     "output_type": "stream",
     "text": [
      "I want to fly freshly! Stop the pollution.\n",
      "I cannot fly but belive me I am a bird.\n"
     ]
    }
   ],
   "source": [
    "# 4. Demonstrate polymorphism by creating a base class Bird with a method fly(). Create two derived classes\n",
    "# Sparrow and Penguin that override the fly() method.\n",
    "\n",
    "class Bird:\n",
    "  \n",
    "  def fly(self):\n",
    "    print(\"A bird can fly.\")\n",
    "\n",
    "class Sparrow(Bird):\n",
    "\n",
    "  def fly(self):\n",
    "    print(\"I want to fly freshly! Stop the pollution.\")\n",
    "  \n",
    "class Penguin(Bird):\n",
    "\n",
    "  def fly(self):\n",
    "    print(\"I cannot fly but belive me I am a bird.\")\n",
    "\n",
    "sp = Sparrow()\n",
    "\n",
    "sp.fly()\n",
    "\n",
    "del sp\n",
    "\n",
    "penguine = Penguin()\n",
    "\n",
    "penguine.fly()\n",
    "\n",
    "del penguine"
   ]
  },
  {
   "cell_type": "code",
   "execution_count": 19,
   "id": "8d0b0015",
   "metadata": {},
   "outputs": [
    {
     "name": "stdout",
     "output_type": "stream",
     "text": [
      "Current balance = 0 Thank You for choosing us!\n",
      "Current balance = 0  Thank You for choosing us!\n",
      "'Insufficient Balance!'\n",
      "Amount cannot be withdrawn and the transaction failed!  Thank You for choosing us!\n",
      "Current balance = 0 Thank You for choosing us!\n",
      "Current balance = 0  Thank You for choosing us!\n",
      "Amount deposited and the transaction completed successfully!  Thank You for choosing us!\n",
      "Current balance = 20000  Thank You for choosing us!\n",
      "Current balance = 20000 Thank You for choosing us!\n",
      "Current balance = 20000  Thank You for choosing us!\n",
      "Amount withdrawn and the transaction completed successfully!  Thank You for choosing us!\n",
      "Current balance = 19655 Thank You for choosing us!\n",
      "Current balance = 19655 Thank You for choosing us!\n"
     ]
    }
   ],
   "source": [
    "# 5. Write a program to demonstrate encapsulation by creating a class BankAccount with private attributes\n",
    "# balance and methods to deposit, withdraw, and check balance.\n",
    "\n",
    "class BankAccount:\n",
    "  def __init__(self):\n",
    "    self.__balance = 0\n",
    "\n",
    "  def deposite(self):\n",
    "    print(f\"Current balance = {self.__balance}  Thank You for choosing us!\")\n",
    "\n",
    "    try:\n",
    "      self.__balance += int(input(\"Enter the amount you want to deposite : \"))\n",
    "    except ValueError as ve:\n",
    "      print(\"Please insert a valid amount.\")\n",
    "      \n",
    "      print(\"Amount cannot be deposited and the transaction failed!  Thank You for choosing us!\")\n",
    "    else:\n",
    "      print(\"Amount deposited and the transaction completed successfully!  Thank You for choosing us!\")\n",
    "    \n",
    "    print(f\"Current balance = {self.__balance}  Thank You for choosing us!\")\n",
    "\n",
    "  \n",
    "  def withdraw(self):\n",
    "    print(f\"Current balance = {self.__balance}  Thank You for choosing us!\")\n",
    "\n",
    "    try:\n",
    "      withdraw_amt = int(input(\"Enter the amount you want to withdraw : \"))\n",
    "\n",
    "      if withdraw_amt > self.__balance:\n",
    "        raise KeyError(\"Insufficient Balance!\")\n",
    "      else:\n",
    "        self.__balance -= withdraw_amt\n",
    "\n",
    "    except KeyError as ke:\n",
    "      print(ke)\n",
    "      \n",
    "      print(\"Amount cannot be withdrawn and the transaction failed!  Thank You for choosing us!\")\n",
    "    except ValueError as ve:\n",
    "      print(\"Please insert a valid amount.\")\n",
    "      \n",
    "      print(\"Amount cannot be withdrawn and the transaction failed!  Thank You for choosing us!\")\n",
    "    else:\n",
    "      print(\"Amount withdrawn and the transaction completed successfully!  Thank You for choosing us!\")\n",
    "    \n",
    "    print(f\"Current balance = {self.__balance} Thank You for choosing us!\")\n",
    "\n",
    "  def check_balance(self):\n",
    "    print(f\"Current balance = {self.__balance} Thank You for choosing us!\")\n",
    "\n",
    "\n",
    "cus1 = BankAccount()\n",
    "\n",
    "cus1.check_balance()\n",
    "\n",
    "cus1.withdraw()\n",
    "\n",
    "cus1.deposite()\n",
    "\n",
    "cus1.check_balance()\n",
    "\n",
    "cus1.withdraw()\n",
    "\n",
    "cus1.check_balance()\n",
    "\n",
    "del cus1\n",
    "\n"
   ]
  },
  {
   "cell_type": "code",
   "execution_count": 20,
   "id": "ec1da116",
   "metadata": {},
   "outputs": [
    {
     "name": "stdout",
     "output_type": "stream",
     "text": [
      "Ma surili hu!\n",
      "Cha! Maila.... Piano tera se zada surili mujhe cahata hai!\n",
      "Bap bap hota hai! Humse panga mat lijiya ga nehito thok diya jaoga! Surili mera hai!\n"
     ]
    }
   ],
   "source": [
    "# 6. Demonstrate runtime polymorphism using a method play() in a base class Instrument. Derive classes Guitar\n",
    "# and Piano that implement their own version of play().\n",
    "\n",
    "class Instrument:\n",
    "  \n",
    "  def play(self):\n",
    "    print(\"Ma surili hu!\")\n",
    "\n",
    "class Guiter(Instrument):\n",
    "\n",
    "  def play(self):\n",
    "    print(\"Cha! Maila.... Piano tera se zada surili mujhe cahata hai!\")\n",
    "\n",
    "class Piano(Instrument):\n",
    "\n",
    "  def play(self):\n",
    "    print(\"Bap bap hota hai! Humse panga mat lijiya ga nehito thok diya jaoga! Surili mera hai!\")\n",
    "\n",
    "pi = Piano()\n",
    "\n",
    "gui = Guiter()\n",
    "\n",
    "ins = Instrument()\n",
    "\n",
    "ins.play()\n",
    "\n",
    "gui.play()\n",
    "\n",
    "pi.play()\n",
    "\n",
    "del pi, gui, ins"
   ]
  },
  {
   "cell_type": "code",
   "execution_count": 26,
   "id": "d8a92554",
   "metadata": {},
   "outputs": [
    {
     "name": "stdout",
     "output_type": "stream",
     "text": [
      "50\n",
      "100\n"
     ]
    }
   ],
   "source": [
    "# 7.  Create a class MathOperations with a class method add_numbers() to add two numbers and a static\n",
    "# method subtract_numbers() to subtract two numbers.\n",
    "\n",
    "class MathOperations:\n",
    "  a = 20\n",
    "  b = 30\n",
    "\n",
    "  @classmethod\n",
    "  def add_numbers(cls):\n",
    "    return cls.a + cls.b\n",
    "  \n",
    "  @staticmethod\n",
    "  def sub_numbers(a, b):\n",
    "    return a-b\n",
    "\n",
    "print(MathOperations.add_numbers())\n",
    "\n",
    "print(MathOperations.sub_numbers(200, 100))"
   ]
  },
  {
   "cell_type": "code",
   "execution_count": 30,
   "id": "6ddd0e05",
   "metadata": {},
   "outputs": [
    {
     "name": "stdout",
     "output_type": "stream",
     "text": [
      "Till now there are 1 person(s).\n",
      "Till now there are 2 person(s).\n",
      "Till now there are 3 person(s).\n"
     ]
    }
   ],
   "source": [
    "# 8.  Implement a class Person with a class method to count the total number of persons created.\n",
    "\n",
    "class Person:\n",
    "\n",
    "  p_count = 0\n",
    "\n",
    "  @classmethod\n",
    "  def __init__(cls):\n",
    "    cls.p_count+=1\n",
    "\n",
    "    print(f\"Till now there are {cls.p_count} person(s).\")\n",
    "\n",
    "\n",
    "p1 = Person()\n",
    "\n",
    "p2 = Person()\n",
    "\n",
    "p3 = Person()\n",
    "\n",
    "del p1, p2, p3\n"
   ]
  },
  {
   "cell_type": "code",
   "execution_count": 36,
   "id": "981deacb",
   "metadata": {},
   "outputs": [
    {
     "name": "stdout",
     "output_type": "stream",
     "text": [
      "numerator / denominator | 100 / 2\n"
     ]
    }
   ],
   "source": [
    "# 9. Write a class Fraction with attributes numerator and denominator. Override the str method to display the\n",
    "# fraction as \"numerator/denominator\".\n",
    "\n",
    "class Fraction:\n",
    "\n",
    "  def __init__(self, numerator, denominator):\n",
    "    self.numerator = numerator\n",
    "    self.denominator = denominator\n",
    "  \n",
    "  def __str__(self):\n",
    "    return f\"numerator / denominator | {self.numerator} / {self.denominator}\"\n",
    "\n",
    "print(Fraction(100, 2))\n"
   ]
  },
  {
   "cell_type": "code",
   "execution_count": 43,
   "id": "0e363335",
   "metadata": {},
   "outputs": [
    {
     "name": "stdout",
     "output_type": "stream",
     "text": [
      "Vector(22, 50)\n"
     ]
    }
   ],
   "source": [
    "# 10. Demonstrate operator overloading by creating a class Vector and overriding the add method to add two\n",
    "# vectors.\n",
    "\n",
    "class Vector:\n",
    "\n",
    "  def __init__(self, a, b):\n",
    "    self.a = a\n",
    "    self.b = b\n",
    "\n",
    "  def __add__(self, x):\n",
    "    return Vector(self.a + x.a, self.b + x.b)\n",
    "\n",
    "  def __str__(self):\n",
    "    return f\"Vector({self.a}, {self.b})\"\n",
    "\n",
    "\n",
    "v1 = Vector(12, 20)\n",
    "\n",
    "v2 = Vector(10, 30)\n",
    "\n",
    "print(v1 + v2)\n",
    "\n",
    "#for this question i took help from internet\n",
    "\n",
    "del v1, v2"
   ]
  },
  {
   "cell_type": "code",
   "execution_count": 46,
   "id": "2e4a4b3c",
   "metadata": {},
   "outputs": [
    {
     "name": "stdout",
     "output_type": "stream",
     "text": [
      "Hello, my name is Rupsha Kar and I am 24 years old.\n",
      "Hello, my name is Amit and I am 34 years old.\n"
     ]
    }
   ],
   "source": [
    "# Create a class Person with attributes name and age. Add a method greet() that prints \"Hello, my name is\n",
    "# {name} and I am {age} years old.\"\n",
    "\n",
    "class Person:\n",
    "\n",
    "  def __init__(self, name, age):\n",
    "    self.name = name\n",
    "    self.age = age\n",
    "  \n",
    "  def greet(self):\n",
    "    return f\"Hello, my name is {self.name} and I am {self.age} years old.\"\n",
    "\n",
    "amit = Person('Amit', 34)\n",
    "\n",
    "rupsha = Person('Rupsha Kar', 24)\n",
    "\n",
    "print(rupsha.greet())\n",
    "\n",
    "print(amit.greet())\n",
    "\n",
    "del amit, rupsha"
   ]
  },
  {
   "cell_type": "code",
   "execution_count": 48,
   "id": "1708dd45",
   "metadata": {},
   "outputs": [
    {
     "name": "stdout",
     "output_type": "stream",
     "text": [
      "89.48333333333333\n"
     ]
    }
   ],
   "source": [
    "# 12.  Implement a class Student with attributes name and grades. Create a method average_grade() to compute\n",
    "# the average of the grades.\n",
    "\n",
    "class Student:\n",
    "\n",
    "  def __init__(self, name, grades):\n",
    "    self.name = name\n",
    "    self.grades = grades \n",
    "  \n",
    "  def average_grade(self):\n",
    "    return sum(self.grades)/len(self.grades)\n",
    "\n",
    "s1 = Student('Arpita Roy Chowdhury', [100, 93.9, 99.3, 100, 78, 65.7])\n",
    "\n",
    "print(s1.average_grade())\n",
    "\n",
    "del s1"
   ]
  },
  {
   "cell_type": "code",
   "execution_count": 50,
   "id": "3f016f5e",
   "metadata": {},
   "outputs": [
    {
     "name": "stdout",
     "output_type": "stream",
     "text": [
      "70\n"
     ]
    }
   ],
   "source": [
    "# 13. Create a class Rectangle with methods set_dimensions() to set the dimensions and area() to calculate the\n",
    "# area.\n",
    "\n",
    "class Rectangle:\n",
    "\n",
    "  def set_dimensions(self, length, breadth):\n",
    "    self.length = length\n",
    "    self.breadth = breadth\n",
    "  \n",
    "  def area(self):\n",
    "    return 2 * (self.length + self.breadth)\n",
    "  \n",
    "r1 = Rectangle()\n",
    "\n",
    "r1.set_dimensions(20, 15)\n",
    "\n",
    "print(r1.area())\n",
    "\n",
    "del r1"
   ]
  },
  {
   "cell_type": "code",
   "execution_count": 74,
   "id": "ac74576b",
   "metadata": {},
   "outputs": [
    {
     "name": "stdout",
     "output_type": "stream",
     "text": [
      "30000\n",
      "30000\n",
      "32500\n"
     ]
    }
   ],
   "source": [
    "#  14.  Create a class Employee with a method calculate_salary() that computes the salary based on hours worked\n",
    "# and hourly rate. Create a derived class Manager that adds a bonus to the salary\n",
    "\n",
    "class Employee:\n",
    "\n",
    "  def __init__(self):\n",
    "    self.salary = self.calculate_salary(20, 1500) # this can be made dynamic\n",
    "    print(self.salary)\n",
    "\n",
    "  @staticmethod\n",
    "  def calculate_salary(hours_worked, hourly_rate):\n",
    "    salary = hours_worked * hourly_rate\n",
    "    return salary\n",
    "  \n",
    "class Manager(Employee):\n",
    "\n",
    "  def __init__(self, bonus):\n",
    "    super().__init__()\n",
    "    self.salary += bonus\n",
    "\n",
    "    print(self.salary)\n",
    "\n",
    "\n",
    "emp1 = Employee()\n",
    "\n",
    "mng1 = Manager(2500)\n",
    "   \n",
    "\n",
    "del emp1, mng1\n",
    "\n"
   ]
  },
  {
   "cell_type": "code",
   "execution_count": 73,
   "id": "7e10d62e",
   "metadata": {},
   "outputs": [
    {
     "name": "stdout",
     "output_type": "stream",
     "text": [
      "The total price of the book 'Arrena's Love' is $1200\n"
     ]
    }
   ],
   "source": [
    "# 15. Create a class Product with attributes name, price, and quantity. Implement a method total_price() that\n",
    "# calculates the total price of the product.\n",
    "\n",
    "class Product:\n",
    "  \n",
    "  def __init__(self, name, price, quantity):\n",
    "    self.name = name \n",
    "    self.price = price\n",
    "    self.quantity = quantity\n",
    "\n",
    "  def total_price(self):\n",
    "    return self.quantity * self.price\n",
    "\n",
    "  def __str__(self):\n",
    "    return f\"The total price of the book '{self.name}' is ${self.total_price()}\"\n",
    "\n",
    "print(Product('Arrena\\'s Love', 100, 12))  \n"
   ]
  },
  {
   "cell_type": "code",
   "execution_count": 76,
   "id": "f081439a",
   "metadata": {},
   "outputs": [
    {
     "name": "stdout",
     "output_type": "stream",
     "text": [
      "Sheep bole MaaaMaaaa!!!\n",
      "Cow bola humbaa!humba!!!\n"
     ]
    }
   ],
   "source": [
    "# 16. Create a class Animal with an abstract method sound(). Create two derived classes Cow and Sheep that\n",
    "# implement the sound() method\n",
    "\n",
    "class Animal(abc.ABC):\n",
    "\n",
    "  @abc.abstractmethod\n",
    "  def sound(self):\n",
    "    pass\n",
    "\n",
    "class Cow(Animal):\n",
    "\n",
    "  def sound(self):\n",
    "    print('Cow bola humbaa!humba!!!')\n",
    "\n",
    "class Sheep(Animal):\n",
    "\n",
    "  def sound(self):\n",
    "    print('Sheep bole MaaaMaaaa!!!')\n",
    "\n",
    "sp1 = Sheep()\n",
    "\n",
    "sp1.sound()\n",
    "\n",
    "cow1 = Cow()\n",
    "\n",
    "cow1.sound()\n",
    "\n",
    "del sp1, cow1"
   ]
  },
  {
   "cell_type": "code",
   "execution_count": 77,
   "id": "dc03d700",
   "metadata": {},
   "outputs": [
    {
     "name": "stdout",
     "output_type": "stream",
     "text": [
      "The book Generating Python3 whoes author is Dr. Smarak Haldar was published in the year 2029\n"
     ]
    }
   ],
   "source": [
    "#  17. Create a class Book with attributes title, author, and year_published. Add a method get_book_info() that\n",
    "# returns a formatted string with the book's details.\n",
    "\n",
    "class Book:\n",
    "\n",
    "  def __init__(self, title, author, year_published):\n",
    "    self.title = title\n",
    "    self.author = author\n",
    "    self.year_published = year_published\n",
    "\n",
    "  def get_book_info(self):\n",
    "    return f\"The book {self.title} whoes author is {self.author} was published in the year {self.year_published}\"\n",
    "  \n",
    "  def __str__(self):\n",
    "    return self.get_book_info()\n",
    "  \n",
    "print(Book('Generating Python3', 'Dr. Smarak Haldar', '2029'))"
   ]
  },
  {
   "cell_type": "code",
   "execution_count": 78,
   "id": "0a81e629",
   "metadata": {},
   "outputs": [
    {
     "name": "stdout",
     "output_type": "stream",
     "text": [
      "House Loc : Kolkata Sudhirpur ST512 KOL-980 | House Price : 400000000 | Total rooms in House : 12\n"
     ]
    }
   ],
   "source": [
    "# 18. Create a class House with attributes address and price. Create a derived class Mansion that adds an\n",
    "# attribute number_of_rooms.\n",
    "\n",
    "class House:\n",
    "\n",
    "  def __init__(self, address, price):\n",
    "    self.address = address\n",
    "    self.price = price\n",
    "\n",
    "class Mansion(House):\n",
    "\n",
    "  def __init__(self, numbers_of_rooms):\n",
    "    super().__init__('Kolkata Sudhirpur ST512 KOL-980', 400000000)\n",
    "    self.number_of_rooms = numbers_of_rooms\n",
    "\n",
    "  def __str__(self):\n",
    "    return f\"House Loc : {self.address} | House Price : {self.price} | Total rooms in House : {self.number_of_rooms}\"\n",
    "\n",
    "print(Mansion(12))\n",
    "\n",
    "\n",
    "\n"
   ]
  }
 ],
 "metadata": {
  "kernelspec": {
   "display_name": "Python 3",
   "language": "python",
   "name": "python3"
  },
  "language_info": {
   "codemirror_mode": {
    "name": "ipython",
    "version": 3
   },
   "file_extension": ".py",
   "mimetype": "text/x-python",
   "name": "python",
   "nbconvert_exporter": "python",
   "pygments_lexer": "ipython3",
   "version": "3.12.4"
  }
 },
 "nbformat": 4,
 "nbformat_minor": 5
}
